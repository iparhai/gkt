{
 "cells": [
  {
   "cell_type": "code",
   "execution_count": null,
   "id": "23eb49e3",
   "metadata": {},
   "outputs": [],
   "source": [
    "%run train.py --data-file=skill_builder_data.csv --model=GKT --graph-type=Transition"
   ]
  },
  {
   "cell_type": "code",
   "execution_count": 3,
   "id": "ac9492e5",
   "metadata": {},
   "outputs": [
    {
     "name": "stdout",
     "output_type": "stream",
     "text": [
      "True\n",
      "Namespace(attn_dim=32, batch_size=16, bias=True, binary=True, cuda=True, data_dir='data', data_file='skill_builder_data.csv', dkt_graph='dkt_graph.txt', dkt_graph_dir='dkt-graph', dropout=0, edge_types=2, emb_dim=32, epochs=50, factor=True, gamma=0.5, graph_save_dir='graphs', graph_type='Transition', hard=False, hid_dim=32, load_dir='logs/sample/expGKT-Transition', lr=0.001, lr_decay=200, model='GKT', no_cuda=False, no_factor=False, prior=False, result_type=12, save_dir='logs', seed=42, shuffle=True, temp=0.5, test=False, test_model_dir='logs/expDKT', train_ratio=0.6, vae_decoder_dim=32, vae_encoder_dim=32, val_ratio=0.2, var=1)\n"
     ]
    },
    {
     "name": "stderr",
     "output_type": "stream",
     "text": [
      "C:\\Anaconda\\envs\\gkt__\\lib\\site-packages\\IPython\\core\\interactiveshell.py:2731: DtypeWarning: Columns (17) have mixed types.Specify dtype option on import or set low_memory=False.\n",
      "  self.compile if shell_futures else None)\n"
     ]
    },
    {
     "name": "stdout",
     "output_type": "stream",
     "text": [
      "max seq_len:  6157\n",
      "student num:  4047\n",
      "feature_dim:  246\n",
      "question_dim:  123\n",
      "train_size:  2428 val_size:  809 test_size:  810\n"
     ]
    },
    {
     "ename": "RuntimeError",
     "evalue": "Error(s) in loading state_dict for GKT:\n\tsize mismatch for graph: copying a param with shape torch.Size([115, 115]) from checkpoint, the shape in current model is torch.Size([123, 123]).\n\tsize mismatch for emb_x.weight: copying a param with shape torch.Size([1380, 32]) from checkpoint, the shape in current model is torch.Size([1476, 32]).\n\tsize mismatch for emb_c.weight: copying a param with shape torch.Size([116, 32]) from checkpoint, the shape in current model is torch.Size([124, 32]).\n\tsize mismatch for erase_add_gate.weight: copying a param with shape torch.Size([115]) from checkpoint, the shape in current model is torch.Size([123]).",
     "output_type": "error",
     "traceback": [
      "\u001b[1;31m---------------------------------------------------------------------------\u001b[0m",
      "\u001b[1;31mRuntimeError\u001b[0m                              Traceback (most recent call last)",
      "\u001b[1;32mD:\\GKT\\train.py\u001b[0m in \u001b[0;36m<module>\u001b[1;34m\u001b[0m\n\u001b[0;32m    150\u001b[0m     \u001b[0moptimizer_file\u001b[0m \u001b[1;33m=\u001b[0m \u001b[0mos\u001b[0m\u001b[1;33m.\u001b[0m\u001b[0mpath\u001b[0m\u001b[1;33m.\u001b[0m\u001b[0mjoin\u001b[0m\u001b[1;33m(\u001b[0m\u001b[0msave_dir\u001b[0m\u001b[1;33m,\u001b[0m \u001b[0mmodel_file_name\u001b[0m \u001b[1;33m+\u001b[0m \u001b[1;34m'-Optimizer.pt'\u001b[0m\u001b[1;33m)\u001b[0m\u001b[1;33m\u001b[0m\u001b[0m\n\u001b[0;32m    151\u001b[0m     \u001b[0mscheduler_file\u001b[0m \u001b[1;33m=\u001b[0m \u001b[0mos\u001b[0m\u001b[1;33m.\u001b[0m\u001b[0mpath\u001b[0m\u001b[1;33m.\u001b[0m\u001b[0mjoin\u001b[0m\u001b[1;33m(\u001b[0m\u001b[0msave_dir\u001b[0m\u001b[1;33m,\u001b[0m \u001b[0mmodel_file_name\u001b[0m \u001b[1;33m+\u001b[0m \u001b[1;34m'-Scheduler.pt'\u001b[0m\u001b[1;33m)\u001b[0m\u001b[1;33m\u001b[0m\u001b[0m\n\u001b[1;32m--> 152\u001b[1;33m     \u001b[0mmodel\u001b[0m\u001b[1;33m.\u001b[0m\u001b[0mload_state_dict\u001b[0m\u001b[1;33m(\u001b[0m\u001b[0mtorch\u001b[0m\u001b[1;33m.\u001b[0m\u001b[0mload\u001b[0m\u001b[1;33m(\u001b[0m\u001b[0mmodel_file\u001b[0m\u001b[1;33m)\u001b[0m\u001b[1;33m)\u001b[0m\u001b[1;33m\u001b[0m\u001b[0m\n\u001b[0m\u001b[0;32m    153\u001b[0m     \u001b[0moptimizer\u001b[0m\u001b[1;33m.\u001b[0m\u001b[0mload_state_dict\u001b[0m\u001b[1;33m(\u001b[0m\u001b[0mtorch\u001b[0m\u001b[1;33m.\u001b[0m\u001b[0mload\u001b[0m\u001b[1;33m(\u001b[0m\u001b[0moptimizer_file\u001b[0m\u001b[1;33m)\u001b[0m\u001b[1;33m)\u001b[0m\u001b[1;33m\u001b[0m\u001b[0m\n\u001b[0;32m    154\u001b[0m     \u001b[0mscheduler\u001b[0m\u001b[1;33m.\u001b[0m\u001b[0mload_state_dict\u001b[0m\u001b[1;33m(\u001b[0m\u001b[0mtorch\u001b[0m\u001b[1;33m.\u001b[0m\u001b[0mload\u001b[0m\u001b[1;33m(\u001b[0m\u001b[0mscheduler_file\u001b[0m\u001b[1;33m)\u001b[0m\u001b[1;33m)\u001b[0m\u001b[1;33m\u001b[0m\u001b[0m\n",
      "\u001b[1;32mC:\\Anaconda\\envs\\gkt__\\lib\\site-packages\\torch\\nn\\modules\\module.py\u001b[0m in \u001b[0;36mload_state_dict\u001b[1;34m(self, state_dict, strict)\u001b[0m\n\u001b[0;32m   1222\u001b[0m         \u001b[1;32mif\u001b[0m \u001b[0mlen\u001b[0m\u001b[1;33m(\u001b[0m\u001b[0merror_msgs\u001b[0m\u001b[1;33m)\u001b[0m \u001b[1;33m>\u001b[0m \u001b[1;36m0\u001b[0m\u001b[1;33m:\u001b[0m\u001b[1;33m\u001b[0m\u001b[0m\n\u001b[0;32m   1223\u001b[0m             raise RuntimeError('Error(s) in loading state_dict for {}:\\n\\t{}'.format(\n\u001b[1;32m-> 1224\u001b[1;33m                                self.__class__.__name__, \"\\n\\t\".join(error_msgs)))\n\u001b[0m\u001b[0;32m   1225\u001b[0m         \u001b[1;32mreturn\u001b[0m \u001b[0m_IncompatibleKeys\u001b[0m\u001b[1;33m(\u001b[0m\u001b[0mmissing_keys\u001b[0m\u001b[1;33m,\u001b[0m \u001b[0munexpected_keys\u001b[0m\u001b[1;33m)\u001b[0m\u001b[1;33m\u001b[0m\u001b[0m\n\u001b[0;32m   1226\u001b[0m \u001b[1;33m\u001b[0m\u001b[0m\n",
      "\u001b[1;31mRuntimeError\u001b[0m: Error(s) in loading state_dict for GKT:\n\tsize mismatch for graph: copying a param with shape torch.Size([115, 115]) from checkpoint, the shape in current model is torch.Size([123, 123]).\n\tsize mismatch for emb_x.weight: copying a param with shape torch.Size([1380, 32]) from checkpoint, the shape in current model is torch.Size([1476, 32]).\n\tsize mismatch for emb_c.weight: copying a param with shape torch.Size([116, 32]) from checkpoint, the shape in current model is torch.Size([124, 32]).\n\tsize mismatch for erase_add_gate.weight: copying a param with shape torch.Size([115]) from checkpoint, the shape in current model is torch.Size([123])."
     ]
    }
   ],
   "source": [
    "%run train.py --data-file=skill_builder_data.csv --model=GKT --graph-type=Transition"
   ]
  },
  {
   "cell_type": "markdown",
   "id": "0569d52d",
   "metadata": {},
   "source": []
  },
  {
   "cell_type": "code",
   "execution_count": 6,
   "id": "d4304f9c",
   "metadata": {},
   "outputs": [
    {
     "name": "stdout",
     "output_type": "stream",
     "text": [
      "True\n",
      "Namespace(attn_dim=32, batch_size=16, bias=True, binary=True, cuda=True, data_dir='data', data_file='skill_builder_data_sample.csv', dkt_graph='dkt_graph.txt', dkt_graph_dir='dkt-graph', dropout=0, edge_types=2, emb_dim=32, epochs=50, factor=True, gamma=0.5, graph_save_dir='graphs', graph_type='Transition', hard=False, hid_dim=32, load_dir='logs/sample/expGKT-Transition', lr=0.001, lr_decay=200, model='GKT', no_cuda=False, no_factor=False, prior=False, result_type=12, save_dir='logs', seed=42, shuffle=True, temp=0.5, test=True, test_model_dir='logs/expDKT', train_ratio=0.6, vae_decoder_dim=32, vae_encoder_dim=32, val_ratio=0.2, var=1)\n",
      "max seq_len:  114\n",
      "student num:  1097\n",
      "feature_dim:  230\n",
      "question_dim:  115\n",
      "train_size:  658 val_size:  219 test_size:  220\n",
      "True\n",
      "1\n",
      "0\n",
      "<torch.cuda.device object at 0x0000021127D3DC18>\n",
      "NVIDIA GeForce GTX 1660 Ti\n",
      "|===========================================================================|\n",
      "|                  PyTorch CUDA memory summary, device ID 0                 |\n",
      "|---------------------------------------------------------------------------|\n",
      "|            CUDA OOMs: 0            |        cudaMalloc retries: 0         |\n",
      "|===========================================================================|\n",
      "|        Metric         | Cur Usage  | Peak Usage | Tot Alloc  | Tot Freed  |\n",
      "|---------------------------------------------------------------------------|\n",
      "| Allocated memory      |   15373 KB |   17934 KB |   44316 KB |   28943 KB |\n",
      "|       from large pool |   14879 KB |   17021 KB |   40410 KB |   25531 KB |\n",
      "|       from small pool |     494 KB |    1331 KB |    3905 KB |    3411 KB |\n",
      "|---------------------------------------------------------------------------|\n",
      "| Active memory         |   15373 KB |   17934 KB |   44316 KB |   28943 KB |\n",
      "|       from large pool |   14879 KB |   17021 KB |   40410 KB |   25531 KB |\n",
      "|       from small pool |     494 KB |    1331 KB |    3905 KB |    3411 KB |\n",
      "|---------------------------------------------------------------------------|\n",
      "| GPU reserved memory   |   22528 KB |   22528 KB |   22528 KB |       0 B  |\n",
      "|       from large pool |   20480 KB |   20480 KB |   20480 KB |       0 B  |\n",
      "|       from small pool |    2048 KB |    2048 KB |    2048 KB |       0 B  |\n",
      "|---------------------------------------------------------------------------|\n",
      "| Non-releasable memory |    7155 KB |   14984 KB |   42901 KB |   35746 KB |\n",
      "|       from large pool |    5601 KB |   13040 KB |   37501 KB |   31900 KB |\n",
      "|       from small pool |    1554 KB |    1988 KB |    5400 KB |    3846 KB |\n",
      "|---------------------------------------------------------------------------|\n",
      "| Allocations           |      46    |     130    |     393    |     347    |\n",
      "|       from large pool |       2    |       2    |       5    |       3    |\n",
      "|       from small pool |      44    |     128    |     388    |     344    |\n",
      "|---------------------------------------------------------------------------|\n",
      "| Active allocs         |      46    |     130    |     393    |     347    |\n",
      "|       from large pool |       2    |       2    |       5    |       3    |\n",
      "|       from small pool |      44    |     128    |     388    |     344    |\n",
      "|---------------------------------------------------------------------------|\n",
      "| GPU reserved segments |       2    |       2    |       2    |       0    |\n",
      "|       from large pool |       1    |       1    |       1    |       0    |\n",
      "|       from small pool |       1    |       1    |       1    |       0    |\n",
      "|---------------------------------------------------------------------------|\n",
      "| Non-releasable allocs |       4    |       9    |      31    |      27    |\n",
      "|       from large pool |       2    |       2    |       3    |       1    |\n",
      "|       from small pool |       2    |       7    |      28    |      26    |\n",
      "|===========================================================================|\n",
      "\n",
      "--------------------------------\n",
      "--------Testing-----------------\n",
      "--------------------------------\n",
      "loss_test: 0.6048553224 auc_test: 0.6138496599 acc_test: 0.6832791709\n",
      "logs/expGKT-Transition2022-08-10 10-42-40/\n"
     ]
    }
   ],
   "source": [
    "%run train.py --data-file=skill_builder_data_sample.csv --model=GKT --graph-type=Transition --test=true"
   ]
  },
  {
   "cell_type": "code",
   "execution_count": null,
   "id": "0906c054",
   "metadata": {},
   "outputs": [],
   "source": []
  }
 ],
 "metadata": {
  "kernelspec": {
   "display_name": "Python 3",
   "language": "python",
   "name": "python3"
  },
  "language_info": {
   "codemirror_mode": {
    "name": "ipython",
    "version": 3
   },
   "file_extension": ".py",
   "mimetype": "text/x-python",
   "name": "python",
   "nbconvert_exporter": "python",
   "pygments_lexer": "ipython3",
   "version": "3.6.5"
  }
 },
 "nbformat": 4,
 "nbformat_minor": 5
}
